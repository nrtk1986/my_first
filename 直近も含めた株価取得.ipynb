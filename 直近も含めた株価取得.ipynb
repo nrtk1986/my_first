{
  "nbformat": 4,
  "nbformat_minor": 0,
  "metadata": {
    "colab": {
      "name": "直近も含めた株価取得.ipynb",
      "provenance": [],
      "collapsed_sections": [],
      "toc_visible": true,
      "authorship_tag": "ABX9TyOQ4Wh3XgUgJW7FvsQOXXq+",
      "include_colab_link": true
    },
    "kernelspec": {
      "name": "python3",
      "display_name": "Python 3"
    }
  },
  "cells": [
    {
      "cell_type": "markdown",
      "metadata": {
        "id": "view-in-github",
        "colab_type": "text"
      },
      "source": [
        "<a href=\"https://colab.research.google.com/github/nrtk1986/my_first/blob/master/%E7%9B%B4%E8%BF%91%E3%82%82%E5%90%AB%E3%82%81%E3%81%9F%E6%A0%AA%E4%BE%A1%E5%8F%96%E5%BE%97.ipynb\" target=\"_parent\"><img src=\"https://colab.research.google.com/assets/colab-badge.svg\" alt=\"Open In Colab\"/></a>"
      ]
    },
    {
      "cell_type": "code",
      "metadata": {
        "id": "l3xBGQRqocO7"
      },
      "source": [
        "import pandas as pd\n",
        "import pandas_datareader.data as web\n",
        "import numpy as np\n",
        "\n",
        "#スクレイピング用\n",
        "from urllib.request import urlopen\n",
        "from bs4 import BeautifulSoup"
      ],
      "execution_count": 1,
      "outputs": []
    },
    {
      "cell_type": "code",
      "metadata": {
        "id": "1BrGJswEo4K0"
      },
      "source": [
        "#取得したい株価コード\n",
        "kabu_code = '9984'"
      ],
      "execution_count": 2,
      "outputs": []
    },
    {
      "cell_type": "markdown",
      "metadata": {
        "id": "xYNvvPiCpP_L"
      },
      "source": [
        "##**Stooqから直近以外のデータを取得**"
      ]
    },
    {
      "cell_type": "code",
      "metadata": {
        "id": "hQzoDOk3ok0K"
      },
      "source": [
        "df_stooq_tmp = web.DataReader(kabu_code + \".JP\", \"stooq\").dropna()\n",
        "df_stooq = df_stooq_tmp.reset_index()"
      ],
      "execution_count": 3,
      "outputs": []
    },
    {
      "cell_type": "code",
      "metadata": {
        "id": "M5AoRsZHsQeG",
        "outputId": "c5f73787-c22d-461f-eab6-95d44903eeb1",
        "colab": {
          "base_uri": "https://localhost:8080/",
          "height": 136
        }
      },
      "source": [
        "df_stooq.head(3)"
      ],
      "execution_count": 4,
      "outputs": [
        {
          "output_type": "execute_result",
          "data": {
            "text/html": [
              "<div>\n",
              "<style scoped>\n",
              "    .dataframe tbody tr th:only-of-type {\n",
              "        vertical-align: middle;\n",
              "    }\n",
              "\n",
              "    .dataframe tbody tr th {\n",
              "        vertical-align: top;\n",
              "    }\n",
              "\n",
              "    .dataframe thead th {\n",
              "        text-align: right;\n",
              "    }\n",
              "</style>\n",
              "<table border=\"1\" class=\"dataframe\">\n",
              "  <thead>\n",
              "    <tr style=\"text-align: right;\">\n",
              "      <th></th>\n",
              "      <th>Date</th>\n",
              "      <th>Open</th>\n",
              "      <th>High</th>\n",
              "      <th>Low</th>\n",
              "      <th>Close</th>\n",
              "      <th>Volume</th>\n",
              "    </tr>\n",
              "  </thead>\n",
              "  <tbody>\n",
              "    <tr>\n",
              "      <th>0</th>\n",
              "      <td>2020-11-02</td>\n",
              "      <td>6755.0</td>\n",
              "      <td>6848.0</td>\n",
              "      <td>6681.0</td>\n",
              "      <td>6696.0</td>\n",
              "      <td>14611900</td>\n",
              "    </tr>\n",
              "    <tr>\n",
              "      <th>1</th>\n",
              "      <td>2020-10-30</td>\n",
              "      <td>6890.0</td>\n",
              "      <td>6918.0</td>\n",
              "      <td>6793.0</td>\n",
              "      <td>6793.0</td>\n",
              "      <td>14443100</td>\n",
              "    </tr>\n",
              "    <tr>\n",
              "      <th>2</th>\n",
              "      <td>2020-10-29</td>\n",
              "      <td>6900.0</td>\n",
              "      <td>6965.0</td>\n",
              "      <td>6868.0</td>\n",
              "      <td>6907.0</td>\n",
              "      <td>11047900</td>\n",
              "    </tr>\n",
              "  </tbody>\n",
              "</table>\n",
              "</div>"
            ],
            "text/plain": [
              "        Date    Open    High     Low   Close    Volume\n",
              "0 2020-11-02  6755.0  6848.0  6681.0  6696.0  14611900\n",
              "1 2020-10-30  6890.0  6918.0  6793.0  6793.0  14443100\n",
              "2 2020-10-29  6900.0  6965.0  6868.0  6907.0  11047900"
            ]
          },
          "metadata": {
            "tags": []
          },
          "execution_count": 4
        }
      ]
    },
    {
      "cell_type": "markdown",
      "metadata": {
        "id": "UJnvA3l5pU8L"
      },
      "source": [
        "## **株探から直近のデータ取得**"
      ]
    },
    {
      "cell_type": "code",
      "metadata": {
        "id": "RPzdtP3Nok2r"
      },
      "source": [
        "def get_latest(code):\n",
        "  try:\n",
        "      tgt = 'https://kabutan.jp/stock/kabuka?code=' + str(code)\n",
        "      html = urlopen(tgt)\n",
        "      bsObj = BeautifulSoup(html, 'html.parser')\n",
        "      table = bsObj.findAll('table', {'class':'stock_kabuka0'})[0]\n",
        "      rows = table.findAll('tr')\n",
        "      for row in rows:\n",
        "          rec = []\n",
        "          for cell in row.findAll(['td', 'th']):\n",
        "              rec.append(cell.get_text())\n",
        "          del rec[5:7]\n",
        "          rec.insert(0, str(code) + '.JP')\n",
        "      dish.append(rec)\n",
        "      return 'Success'\n",
        "  except Exception as e:\n",
        "      return str(code) + ': ' + str(e)\n",
        "\n",
        "dish = []\n",
        "get_latest(kabu_code)\n",
        "\n",
        "df_latest_tmp = pd.DataFrame(dish).rename(columns={0: 'code', 1: 'Date', 2:'Open', 3: 'High', 4: 'Low', 5:'Close', 6: 'Volume'})\n",
        "df_latest = df_latest_tmp.drop('code', axis=1)"
      ],
      "execution_count": 5,
      "outputs": []
    },
    {
      "cell_type": "markdown",
      "metadata": {
        "id": "qk_-GGpeuLje"
      },
      "source": [
        "### **Dateを日付型に変更**"
      ]
    },
    {
      "cell_type": "code",
      "metadata": {
        "id": "TzXpsdJ5w82k",
        "outputId": "3df77959-cc48-41e4-8722-6442717ea87e",
        "colab": {
          "base_uri": "https://localhost:8080/",
          "height": 77
        }
      },
      "source": [
        "df_latest.applymap(type)"
      ],
      "execution_count": 6,
      "outputs": [
        {
          "output_type": "execute_result",
          "data": {
            "text/html": [
              "<div>\n",
              "<style scoped>\n",
              "    .dataframe tbody tr th:only-of-type {\n",
              "        vertical-align: middle;\n",
              "    }\n",
              "\n",
              "    .dataframe tbody tr th {\n",
              "        vertical-align: top;\n",
              "    }\n",
              "\n",
              "    .dataframe thead th {\n",
              "        text-align: right;\n",
              "    }\n",
              "</style>\n",
              "<table border=\"1\" class=\"dataframe\">\n",
              "  <thead>\n",
              "    <tr style=\"text-align: right;\">\n",
              "      <th></th>\n",
              "      <th>Date</th>\n",
              "      <th>Open</th>\n",
              "      <th>High</th>\n",
              "      <th>Low</th>\n",
              "      <th>Close</th>\n",
              "      <th>Volume</th>\n",
              "    </tr>\n",
              "  </thead>\n",
              "  <tbody>\n",
              "    <tr>\n",
              "      <th>0</th>\n",
              "      <td>&lt;class 'str'&gt;</td>\n",
              "      <td>&lt;class 'str'&gt;</td>\n",
              "      <td>&lt;class 'str'&gt;</td>\n",
              "      <td>&lt;class 'str'&gt;</td>\n",
              "      <td>&lt;class 'str'&gt;</td>\n",
              "      <td>&lt;class 'str'&gt;</td>\n",
              "    </tr>\n",
              "  </tbody>\n",
              "</table>\n",
              "</div>"
            ],
            "text/plain": [
              "            Date           Open  ...          Close         Volume\n",
              "0  <class 'str'>  <class 'str'>  ...  <class 'str'>  <class 'str'>\n",
              "\n",
              "[1 rows x 6 columns]"
            ]
          },
          "metadata": {
            "tags": []
          },
          "execution_count": 6
        }
      ]
    },
    {
      "cell_type": "code",
      "metadata": {
        "id": "cdZYdLb_xUx1"
      },
      "source": [
        "df_latest['Date'] =  '20' + df_latest['Date']\n",
        "df_latest['Date'] = pd.to_datetime(df_latest['Date'], format='%Y-%m-%d')"
      ],
      "execution_count": 7,
      "outputs": []
    },
    {
      "cell_type": "code",
      "metadata": {
        "id": "uNOwc39EuH9s"
      },
      "source": [
        "#df_latest.head()"
      ],
      "execution_count": 8,
      "outputs": []
    },
    {
      "cell_type": "code",
      "metadata": {
        "id": "ooIB1IsQuICK"
      },
      "source": [
        "#df_latest.dtypes"
      ],
      "execution_count": 9,
      "outputs": []
    },
    {
      "cell_type": "markdown",
      "metadata": {
        "id": "t-Z4T_AByU9m"
      },
      "source": [
        "### **株価、取引量をint型に変換**"
      ]
    },
    {
      "cell_type": "code",
      "metadata": {
        "id": "8q2qk1Gzoe0q",
        "outputId": "a9849601-bc08-43ab-8a5c-a312151e7ba5",
        "colab": {
          "base_uri": "https://localhost:8080/",
          "height": 77
        }
      },
      "source": [
        "#カンマ区切りのカンマを除外\n",
        "df_latest['Open']   = df_latest['Open'].str.replace(',','')\n",
        "df_latest['High']   = df_latest['High'].str.replace(',','')\n",
        "df_latest['Low']    = df_latest['Low'].str.replace(',','')\n",
        "df_latest['Close']  = df_latest['Close'].str.replace(',','')\n",
        "df_latest['Volume'] = df_latest['Volume'].str.replace(',','')\n",
        "df_latest.head()"
      ],
      "execution_count": 10,
      "outputs": [
        {
          "output_type": "execute_result",
          "data": {
            "text/html": [
              "<div>\n",
              "<style scoped>\n",
              "    .dataframe tbody tr th:only-of-type {\n",
              "        vertical-align: middle;\n",
              "    }\n",
              "\n",
              "    .dataframe tbody tr th {\n",
              "        vertical-align: top;\n",
              "    }\n",
              "\n",
              "    .dataframe thead th {\n",
              "        text-align: right;\n",
              "    }\n",
              "</style>\n",
              "<table border=\"1\" class=\"dataframe\">\n",
              "  <thead>\n",
              "    <tr style=\"text-align: right;\">\n",
              "      <th></th>\n",
              "      <th>Date</th>\n",
              "      <th>Open</th>\n",
              "      <th>High</th>\n",
              "      <th>Low</th>\n",
              "      <th>Close</th>\n",
              "      <th>Volume</th>\n",
              "    </tr>\n",
              "  </thead>\n",
              "  <tbody>\n",
              "    <tr>\n",
              "      <th>0</th>\n",
              "      <td>2020-11-04</td>\n",
              "      <td>6600</td>\n",
              "      <td>6678</td>\n",
              "      <td>6467</td>\n",
              "      <td>6535</td>\n",
              "      <td>21179800</td>\n",
              "    </tr>\n",
              "  </tbody>\n",
              "</table>\n",
              "</div>"
            ],
            "text/plain": [
              "        Date  Open  High   Low Close    Volume\n",
              "0 2020-11-04  6600  6678  6467  6535  21179800"
            ]
          },
          "metadata": {
            "tags": []
          },
          "execution_count": 10
        }
      ]
    },
    {
      "cell_type": "code",
      "metadata": {
        "id": "0kI0e6gRoe3Z",
        "outputId": "9a8520ff-28e7-47cc-9b5a-a8fafb56f5a6",
        "colab": {
          "base_uri": "https://localhost:8080/"
        }
      },
      "source": [
        "#int型に変換\n",
        "df_latest['Open']   = df_latest['Open'].astype(int)\n",
        "df_latest['High']   = df_latest['High'].astype(int)\n",
        "df_latest['Low']    = df_latest['Low'].astype(int)\n",
        "df_latest['Close']  = df_latest['Close'].astype(int)\n",
        "df_latest['Volume'] = df_latest['Volume'].astype(int)\n",
        "df_latest.dtypes"
      ],
      "execution_count": 11,
      "outputs": [
        {
          "output_type": "execute_result",
          "data": {
            "text/plain": [
              "Date      datetime64[ns]\n",
              "Open               int64\n",
              "High               int64\n",
              "Low                int64\n",
              "Close              int64\n",
              "Volume             int64\n",
              "dtype: object"
            ]
          },
          "metadata": {
            "tags": []
          },
          "execution_count": 11
        }
      ]
    },
    {
      "cell_type": "markdown",
      "metadata": {
        "id": "tqvQUCU_061M"
      },
      "source": [
        "## **Stooqのデータと株探のデータを結合する**"
      ]
    },
    {
      "cell_type": "code",
      "metadata": {
        "id": "pPMbqlWAoe5r"
      },
      "source": [
        "#データを結合する\n",
        "df = pd.concat([df_stooq, df_latest])"
      ],
      "execution_count": 12,
      "outputs": []
    },
    {
      "cell_type": "code",
      "metadata": {
        "id": "_K885JWC059g"
      },
      "source": [
        "#Dateの古い順にソートする\n",
        "df = df.sort_values('Date')"
      ],
      "execution_count": 13,
      "outputs": []
    },
    {
      "cell_type": "code",
      "metadata": {
        "id": "5U3vFwbT06Ab",
        "outputId": "64a56d33-59a4-497f-eeaa-53d3a7066ce2",
        "colab": {
          "base_uri": "https://localhost:8080/",
          "height": 195
        }
      },
      "source": [
        "#indexを振りなおす\n",
        "df.reset_index(inplace=True, drop=True)\n",
        "df.tail()"
      ],
      "execution_count": 14,
      "outputs": [
        {
          "output_type": "execute_result",
          "data": {
            "text/html": [
              "<div>\n",
              "<style scoped>\n",
              "    .dataframe tbody tr th:only-of-type {\n",
              "        vertical-align: middle;\n",
              "    }\n",
              "\n",
              "    .dataframe tbody tr th {\n",
              "        vertical-align: top;\n",
              "    }\n",
              "\n",
              "    .dataframe thead th {\n",
              "        text-align: right;\n",
              "    }\n",
              "</style>\n",
              "<table border=\"1\" class=\"dataframe\">\n",
              "  <thead>\n",
              "    <tr style=\"text-align: right;\">\n",
              "      <th></th>\n",
              "      <th>Date</th>\n",
              "      <th>Open</th>\n",
              "      <th>High</th>\n",
              "      <th>Low</th>\n",
              "      <th>Close</th>\n",
              "      <th>Volume</th>\n",
              "    </tr>\n",
              "  </thead>\n",
              "  <tbody>\n",
              "    <tr>\n",
              "      <th>1212</th>\n",
              "      <td>2020-10-28</td>\n",
              "      <td>6906.0</td>\n",
              "      <td>7054.0</td>\n",
              "      <td>6872.0</td>\n",
              "      <td>7003.0</td>\n",
              "      <td>12797600</td>\n",
              "    </tr>\n",
              "    <tr>\n",
              "      <th>1213</th>\n",
              "      <td>2020-10-29</td>\n",
              "      <td>6900.0</td>\n",
              "      <td>6965.0</td>\n",
              "      <td>6868.0</td>\n",
              "      <td>6907.0</td>\n",
              "      <td>11047900</td>\n",
              "    </tr>\n",
              "    <tr>\n",
              "      <th>1214</th>\n",
              "      <td>2020-10-30</td>\n",
              "      <td>6890.0</td>\n",
              "      <td>6918.0</td>\n",
              "      <td>6793.0</td>\n",
              "      <td>6793.0</td>\n",
              "      <td>14443100</td>\n",
              "    </tr>\n",
              "    <tr>\n",
              "      <th>1215</th>\n",
              "      <td>2020-11-02</td>\n",
              "      <td>6755.0</td>\n",
              "      <td>6848.0</td>\n",
              "      <td>6681.0</td>\n",
              "      <td>6696.0</td>\n",
              "      <td>14611900</td>\n",
              "    </tr>\n",
              "    <tr>\n",
              "      <th>1216</th>\n",
              "      <td>2020-11-04</td>\n",
              "      <td>6600.0</td>\n",
              "      <td>6678.0</td>\n",
              "      <td>6467.0</td>\n",
              "      <td>6535.0</td>\n",
              "      <td>21179800</td>\n",
              "    </tr>\n",
              "  </tbody>\n",
              "</table>\n",
              "</div>"
            ],
            "text/plain": [
              "           Date    Open    High     Low   Close    Volume\n",
              "1212 2020-10-28  6906.0  7054.0  6872.0  7003.0  12797600\n",
              "1213 2020-10-29  6900.0  6965.0  6868.0  6907.0  11047900\n",
              "1214 2020-10-30  6890.0  6918.0  6793.0  6793.0  14443100\n",
              "1215 2020-11-02  6755.0  6848.0  6681.0  6696.0  14611900\n",
              "1216 2020-11-04  6600.0  6678.0  6467.0  6535.0  21179800"
            ]
          },
          "metadata": {
            "tags": []
          },
          "execution_count": 14
        }
      ]
    },
    {
      "cell_type": "code",
      "metadata": {
        "id": "K_oN7FuA06GM"
      },
      "source": [
        "df.to_csv('SoftBank_20201104.csv')"
      ],
      "execution_count": 16,
      "outputs": []
    },
    {
      "cell_type": "code",
      "metadata": {
        "id": "5w4pSa-coe8c"
      },
      "source": [
        ""
      ],
      "execution_count": null,
      "outputs": []
    },
    {
      "cell_type": "code",
      "metadata": {
        "id": "rdmC3xfDoe-6"
      },
      "source": [
        ""
      ],
      "execution_count": null,
      "outputs": []
    }
  ]
}